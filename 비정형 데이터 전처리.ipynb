{
 "cells": [
  {
   "cell_type": "code",
   "execution_count": 1,
   "id": "d628a121",
   "metadata": {
    "id": "d628a121"
   },
   "outputs": [],
   "source": [
    "import pandas as pd\n",
    "\n",
    "import warnings\n",
    "warnings.filterwarnings('ignore')"
   ]
  },
  {
   "cell_type": "code",
   "execution_count": 2,
   "id": "d6c20dcd",
   "metadata": {
    "id": "d6c20dcd",
    "outputId": "0ba80dea-76dd-4ccb-e420-45dcbe25d4f3"
   },
   "outputs": [
    {
     "name": "stdout",
     "output_type": "stream",
     "text": [
      "Index(['개방자치단체코드', '관리번호', '인허가일자', '인허가취소일자', '영업상태코드', '영업상태명', '상세영업상태코드',\n",
      "       '상세영업상태명', '폐업일자', '휴업시작일자', '휴업종료일자', '재개업일자', '전화번호', '소재지면적',\n",
      "       '소재지우편번호', '지번주소', '도로명주소', '도로명우편번호', '사업장명', '최종수정일자', '데이터갱신구분',\n",
      "       '데이터갱신일자', '업태구분명', '좌표정보(X)', '좌표정보(Y)', '위생업태명', '남성종사자수', '여성종사자수',\n",
      "       '영업장주변구분명', '등급구분명', '급수시설구분명', '총인원', '본사종업원수', '공장사무직종업원수',\n",
      "       '공장판매직종업원수', '공장생산직종업원수', '건물소유구분명', '보증액', '월세액', '다중이용업소여부', '시설총규모',\n",
      "       '전통업소지정번호', '전통업소주된음식', '홈페이지'],\n",
      "      dtype='object')\n"
     ]
    }
   ],
   "source": [
    "# 데이터 불러오기\n",
    "df = pd.read_csv(\"./서울특별시 일반음식점 인허가 정보.csv\", encoding='cp949')\n",
    "print(df.columns)"
   ]
  },
  {
   "cell_type": "code",
   "execution_count": 3,
   "id": "419f390d",
   "metadata": {
    "id": "419f390d",
    "outputId": "fc2f9887-fc72-44c8-ebe0-d21142324588"
   },
   "outputs": [
    {
     "data": {
      "text/html": [
       "<div>\n",
       "<style scoped>\n",
       "    .dataframe tbody tr th:only-of-type {\n",
       "        vertical-align: middle;\n",
       "    }\n",
       "\n",
       "    .dataframe tbody tr th {\n",
       "        vertical-align: top;\n",
       "    }\n",
       "\n",
       "    .dataframe thead th {\n",
       "        text-align: right;\n",
       "    }\n",
       "</style>\n",
       "<table border=\"1\" class=\"dataframe\">\n",
       "  <thead>\n",
       "    <tr style=\"text-align: right;\">\n",
       "      <th></th>\n",
       "      <th>도로명주소</th>\n",
       "      <th>사업장명</th>\n",
       "      <th>업태구분명</th>\n",
       "    </tr>\n",
       "  </thead>\n",
       "  <tbody>\n",
       "    <tr>\n",
       "      <th>0</th>\n",
       "      <td>NaN</td>\n",
       "      <td>일식동경</td>\n",
       "      <td>일식</td>\n",
       "    </tr>\n",
       "    <tr>\n",
       "      <th>1</th>\n",
       "      <td>서울특별시 종로구 삼일대로 382 (관철동)</td>\n",
       "      <td>상해</td>\n",
       "      <td>분식</td>\n",
       "    </tr>\n",
       "    <tr>\n",
       "      <th>2</th>\n",
       "      <td>서울특별시 관악구 신림로59길 15-13 4층 (신림동)</td>\n",
       "      <td>미쿠</td>\n",
       "      <td>일식</td>\n",
       "    </tr>\n",
       "    <tr>\n",
       "      <th>3</th>\n",
       "      <td>서울특별시 구로구 구로동로22길 21 1층 (구로동)</td>\n",
       "      <td>여름엔빙수겨울엔떡국</td>\n",
       "      <td>한식</td>\n",
       "    </tr>\n",
       "    <tr>\n",
       "      <th>4</th>\n",
       "      <td>서울특별시 강남구 삼성로85길 33 1층 102-2호 (대치동)</td>\n",
       "      <td>카페디퍼</td>\n",
       "      <td>기타</td>\n",
       "    </tr>\n",
       "  </tbody>\n",
       "</table>\n",
       "</div>"
      ],
      "text/plain": [
       "                                 도로명주소        사업장명 업태구분명\n",
       "0                                  NaN        일식동경    일식\n",
       "1             서울특별시 종로구 삼일대로 382 (관철동)          상해    분식\n",
       "2      서울특별시 관악구 신림로59길 15-13 4층 (신림동)          미쿠    일식\n",
       "3        서울특별시 구로구 구로동로22길 21 1층 (구로동)  여름엔빙수겨울엔떡국    한식\n",
       "4  서울특별시 강남구 삼성로85길 33 1층 102-2호 (대치동)        카페디퍼    기타"
      ]
     },
     "execution_count": 3,
     "metadata": {},
     "output_type": "execute_result"
    }
   ],
   "source": [
    "df = df[['도로명주소' , '사업장명', '업태구분명']]\n",
    "df.head()"
   ]
  },
  {
   "cell_type": "code",
   "execution_count": 4,
   "id": "f9deb7a9",
   "metadata": {},
   "outputs": [
    {
     "data": {
      "text/plain": [
       "도로명주소    1698\n",
       "사업장명        1\n",
       "업태구분명      11\n",
       "dtype: int64"
      ]
     },
     "execution_count": 4,
     "metadata": {},
     "output_type": "execute_result"
    }
   ],
   "source": [
    "# 결측값 확인\n",
    "df.isna().sum()"
   ]
  },
  {
   "cell_type": "code",
   "execution_count": 5,
   "id": "09e616bc",
   "metadata": {
    "id": "09e616bc",
    "outputId": "c18db353-f0a3-4854-dbe1-26e1e81f76da",
    "scrolled": true
   },
   "outputs": [
    {
     "data": {
      "text/html": [
       "<div>\n",
       "<style scoped>\n",
       "    .dataframe tbody tr th:only-of-type {\n",
       "        vertical-align: middle;\n",
       "    }\n",
       "\n",
       "    .dataframe tbody tr th {\n",
       "        vertical-align: top;\n",
       "    }\n",
       "\n",
       "    .dataframe thead th {\n",
       "        text-align: right;\n",
       "    }\n",
       "</style>\n",
       "<table border=\"1\" class=\"dataframe\">\n",
       "  <thead>\n",
       "    <tr style=\"text-align: right;\">\n",
       "      <th></th>\n",
       "      <th>도로명주소</th>\n",
       "      <th>사업장명</th>\n",
       "      <th>업태구분명</th>\n",
       "    </tr>\n",
       "  </thead>\n",
       "  <tbody>\n",
       "    <tr>\n",
       "      <th>1</th>\n",
       "      <td>서울특별시 종로구 삼일대로 382 (관철동)</td>\n",
       "      <td>상해</td>\n",
       "      <td>분식</td>\n",
       "    </tr>\n",
       "    <tr>\n",
       "      <th>2</th>\n",
       "      <td>서울특별시 관악구 신림로59길 15-13 4층 (신림동)</td>\n",
       "      <td>미쿠</td>\n",
       "      <td>일식</td>\n",
       "    </tr>\n",
       "    <tr>\n",
       "      <th>3</th>\n",
       "      <td>서울특별시 구로구 구로동로22길 21 1층 (구로동)</td>\n",
       "      <td>여름엔빙수겨울엔떡국</td>\n",
       "      <td>한식</td>\n",
       "    </tr>\n",
       "    <tr>\n",
       "      <th>4</th>\n",
       "      <td>서울특별시 강남구 삼성로85길 33 1층 102-2호 (대치동)</td>\n",
       "      <td>카페디퍼</td>\n",
       "      <td>기타</td>\n",
       "    </tr>\n",
       "    <tr>\n",
       "      <th>5</th>\n",
       "      <td>서울특별시 동대문구 난계로30길 28-7 1층 (신설동)</td>\n",
       "      <td>메이크데이(MakeDay)</td>\n",
       "      <td>기타</td>\n",
       "    </tr>\n",
       "  </tbody>\n",
       "</table>\n",
       "</div>"
      ],
      "text/plain": [
       "                                 도로명주소            사업장명 업태구분명\n",
       "1             서울특별시 종로구 삼일대로 382 (관철동)              상해    분식\n",
       "2      서울특별시 관악구 신림로59길 15-13 4층 (신림동)              미쿠    일식\n",
       "3        서울특별시 구로구 구로동로22길 21 1층 (구로동)      여름엔빙수겨울엔떡국    한식\n",
       "4  서울특별시 강남구 삼성로85길 33 1층 102-2호 (대치동)            카페디퍼    기타\n",
       "5      서울특별시 동대문구 난계로30길 28-7 1층 (신설동)  메이크데이(MakeDay)    기타"
      ]
     },
     "execution_count": 5,
     "metadata": {},
     "output_type": "execute_result"
    }
   ],
   "source": [
    "df = df.dropna()\n",
    "df.head()"
   ]
  },
  {
   "cell_type": "code",
   "execution_count": 6,
   "id": "53cee9df",
   "metadata": {
    "id": "53cee9df",
    "outputId": "0104909f-f3b4-437c-8439-5b1cdc471ec1"
   },
   "outputs": [
    {
     "data": {
      "text/plain": [
       "감성주점                228\n",
       "경양식                9339\n",
       "기타                17963\n",
       "김밥(도시락)             586\n",
       "까페                 2092\n",
       "냉면집                 105\n",
       "라이브카페               190\n",
       "복어취급                 51\n",
       "분식                 9096\n",
       "뷔페식                 461\n",
       "식육(숯불구이)            887\n",
       "외국음식전문점(인도태국등)     1383\n",
       "이동조리                  7\n",
       "일식                 6189\n",
       "전통찻집                 51\n",
       "정종/대포집/소주방         2235\n",
       "중국식                4575\n",
       "출장조리                100\n",
       "커피숍                   3\n",
       "키즈카페                 66\n",
       "탕류(보신용)             144\n",
       "통닭(치킨)             2531\n",
       "패밀리레스트랑             174\n",
       "패스트푸드               705\n",
       "한식                52562\n",
       "호프/통닭             10407\n",
       "회집                  279\n",
       "횟집                  297\n",
       "Name: 업태구분명, dtype: int64"
      ]
     },
     "execution_count": 6,
     "metadata": {},
     "output_type": "execute_result"
    }
   ],
   "source": [
    "df[\"업태구분명\"].value_counts().sort_index()"
   ]
  },
  {
   "cell_type": "code",
   "execution_count": 7,
   "id": "92609a82",
   "metadata": {},
   "outputs": [
    {
     "data": {
      "text/html": [
       "<div>\n",
       "<style scoped>\n",
       "    .dataframe tbody tr th:only-of-type {\n",
       "        vertical-align: middle;\n",
       "    }\n",
       "\n",
       "    .dataframe tbody tr th {\n",
       "        vertical-align: top;\n",
       "    }\n",
       "\n",
       "    .dataframe thead th {\n",
       "        text-align: right;\n",
       "    }\n",
       "</style>\n",
       "<table border=\"1\" class=\"dataframe\">\n",
       "  <thead>\n",
       "    <tr style=\"text-align: right;\">\n",
       "      <th></th>\n",
       "      <th>도로명주소</th>\n",
       "      <th>사업장명</th>\n",
       "      <th>업태구분명</th>\n",
       "    </tr>\n",
       "  </thead>\n",
       "  <tbody>\n",
       "    <tr>\n",
       "      <th>1</th>\n",
       "      <td>서울특별시 종로구 삼일대로 382 (관철동)</td>\n",
       "      <td>상해</td>\n",
       "      <td>분식</td>\n",
       "    </tr>\n",
       "    <tr>\n",
       "      <th>2</th>\n",
       "      <td>서울특별시 관악구 신림로59길 15-13 4층 (신림동)</td>\n",
       "      <td>미쿠</td>\n",
       "      <td>일식</td>\n",
       "    </tr>\n",
       "    <tr>\n",
       "      <th>3</th>\n",
       "      <td>서울특별시 구로구 구로동로22길 21 1층 (구로동)</td>\n",
       "      <td>여름엔빙수겨울엔떡국</td>\n",
       "      <td>한식</td>\n",
       "    </tr>\n",
       "    <tr>\n",
       "      <th>4</th>\n",
       "      <td>서울특별시 강남구 삼성로85길 33 1층 102-2호 (대치동)</td>\n",
       "      <td>카페디퍼</td>\n",
       "      <td>카페</td>\n",
       "    </tr>\n",
       "    <tr>\n",
       "      <th>5</th>\n",
       "      <td>서울특별시 동대문구 난계로30길 28-7 1층 (신설동)</td>\n",
       "      <td>메이크데이(MakeDay)</td>\n",
       "      <td>카페</td>\n",
       "    </tr>\n",
       "  </tbody>\n",
       "</table>\n",
       "</div>"
      ],
      "text/plain": [
       "                                 도로명주소            사업장명 업태구분명\n",
       "1             서울특별시 종로구 삼일대로 382 (관철동)              상해    분식\n",
       "2      서울특별시 관악구 신림로59길 15-13 4층 (신림동)              미쿠    일식\n",
       "3        서울특별시 구로구 구로동로22길 21 1층 (구로동)      여름엔빙수겨울엔떡국    한식\n",
       "4  서울특별시 강남구 삼성로85길 33 1층 102-2호 (대치동)            카페디퍼    카페\n",
       "5      서울특별시 동대문구 난계로30길 28-7 1층 (신설동)  메이크데이(MakeDay)    카페"
      ]
     },
     "execution_count": 7,
     "metadata": {},
     "output_type": "execute_result"
    }
   ],
   "source": [
    "# 업종 재분류\n",
    "separated_dict = {'경양식':'양식', '뷔페식':'양식', '패밀리레스트랑':'양식', \n",
    "'회집':'해산물','횟집':'해산물','복어취급':'해산물', \n",
    "'분식':'분식','냉면집':'분식','김밥(도시락)':'분식', \n",
    "'통닭(치킨)':'치킨','호프/통닭':'치킨', \n",
    "'한식':'한식','탕류(보신용)':'한식', \n",
    "'커피숍':'카페','까페':'카페','키즈카페':'카페','라이브카페':'카페','전통찻집':'카페','기타':'카페', \n",
    "'정종/대포집/소주방':'술집','감성주점':'술집', \n",
    "'식육(숯불구이)':'고기', \n",
    "'중국식':'중식', \n",
    "'외국음식전문점(인도태국등)':'외국음식', \n",
    "'출장조리':None, '이동조리':None}\n",
    "\n",
    "for i, j in separated_dict.items():\n",
    "    df = df.replace(i, j)\n",
    "\n",
    "df = df.dropna()\n",
    "df.head()"
   ]
  },
  {
   "cell_type": "code",
   "execution_count": 8,
   "id": "eadeee34",
   "metadata": {},
   "outputs": [
    {
     "data": {
      "text/plain": [
       "1             서울특별시 종로구 삼일대로 382\n",
       "2         서울특별시 관악구 신림로59길 15-13\n",
       "3           서울특별시 구로구 구로동로22길 21\n",
       "4            서울특별시 강남구 삼성로85길 33\n",
       "5         서울특별시 동대문구 난계로30길 28-7\n",
       "                   ...          \n",
       "124411          서울특별시 동작구 대림로 55\n",
       "124412          서울특별시 중구 다산로 137\n",
       "124413       서울특별시 광진구 동일로24길 28\n",
       "124414          서울특별시 강동구 상암로 50\n",
       "124415           서울특별시 종로구 종로 19\n",
       "Name: 도로명주소, Length: 122599, dtype: object"
      ]
     },
     "execution_count": 8,
     "metadata": {},
     "output_type": "execute_result"
    }
   ],
   "source": [
    "df['도로명주소'] = [' '.join(i.split()[:4]) for i in df['도로명주소']]\n",
    "df['도로명주소']"
   ]
  },
  {
   "cell_type": "code",
   "execution_count": 9,
   "id": "0a52f7ef",
   "metadata": {},
   "outputs": [
    {
     "data": {
      "text/plain": [
       "1          분식\n",
       "2          일식\n",
       "3          한식\n",
       "4          카페\n",
       "5          카페\n",
       "         ... \n",
       "124411    해산물\n",
       "124412     한식\n",
       "124413     술집\n",
       "124414     한식\n",
       "124415     한식\n",
       "Name: 업태구분명, Length: 122599, dtype: object"
      ]
     },
     "execution_count": 9,
     "metadata": {},
     "output_type": "execute_result"
    }
   ],
   "source": [
    "df['업태구분명']"
   ]
  },
  {
   "cell_type": "code",
   "execution_count": 10,
   "id": "f72ee25c",
   "metadata": {},
   "outputs": [
    {
     "name": "stdout",
     "output_type": "stream",
     "text": [
      "자치구 목록\n",
      "양천구, 구로구, 노원구, 중랑구, 중구, 도봉구, 마포구, 강남구, 강북구, 강동구, 성북구, 관악구, 광진구, 동대문구, 용산구, 동작구, 강서구, 서대문구, 영등포구, 은평구, 서초구, 종로구, 성동구, 송파구, 금천구\n",
      "원하시는 자치구를 입력해주세요\n",
      "\"강남구\"를 선택하셨습니다.\n",
      "메뉴 목록\n",
      "모두, 분식, 일식, 한식, 카페, 양식, 치킨, 외국음식, 중식, 고기, 해산물, 술집, 패스트푸드\n",
      "원하시는 메뉴를 입력해주세요.\n",
      "\"일식\"를 선택하셨습니다.\n"
     ]
    },
    {
     "data": {
      "text/plain": [
       "0    서울특별시 강남구 테헤란로52길 21 탐라정성돈카츠(탐정돈)\n",
       "1            서울특별시 강남구 도산대로49길 10-3 로지\n",
       "2       서울특별시 강남구 언주로98길 9 재패니즈 다이닝 안심\n",
       "3      서울특별시 강남구 테헤란로39길 68 돈까스집이야 강남점\n",
       "4       서울특별시 강남구 테헤란로39길 68 덮밥집이야 강남점\n",
       "dtype: object"
      ]
     },
     "execution_count": 10,
     "metadata": {},
     "output_type": "execute_result"
    }
   ],
   "source": [
    "# 자치구\n",
    "print(f'''자치구 목록\n",
    "{', '.join([i for i in set([i.split()[1] for i in df['도로명주소']])])}\n",
    "원하시는 자치구를 입력해주세요''')\n",
    "gu = input()\n",
    "print(f'\"{gu}\"를 선택하셨습니다.')\n",
    "\n",
    "# 메뉴\n",
    "print(f'''메뉴 목록\n",
    "모두, {', '.join([i for i in df['업태구분명'].unique()])}\n",
    "원하시는 메뉴를 입력해주세요.''')\n",
    "menu = input()\n",
    "print(f'\"{menu}\"를 선택하셨습니다.')\n",
    "\n",
    "if menu == '모두':\n",
    "    Keyword = df[df['도로명주소'].str.contains(gu)][['도로명주소','사업장명']].reset_index(drop=True)\n",
    "    Keyword = Keyword['도로명주소']+' '+Keyword['사업장명']\n",
    "else:\n",
    "    Keyword = df[df['도로명주소'].str.contains(gu)][df['업태구분명']==menu][['도로명주소', '사업장명']].reset_index(drop=True)\n",
    "    Keyword = Keyword['도로명주소']+' '+Keyword['사업장명']\n",
    "\n",
    "Keyword.head()"
   ]
  },
  {
   "cell_type": "code",
   "execution_count": 11,
   "id": "a075c380",
   "metadata": {},
   "outputs": [],
   "source": [
    "Keyword.to_csv('Keyword.csv', index=False)"
   ]
  }
 ],
 "metadata": {
  "colab": {
   "name": "전처리_.ipynb",
   "provenance": []
  },
  "kernelspec": {
   "display_name": "Python 3.8.15 ('Analyzing_Unstructured_Data')",
   "language": "python",
   "name": "python3"
  },
  "language_info": {
   "codemirror_mode": {
    "name": "ipython",
    "version": 3
   },
   "file_extension": ".py",
   "mimetype": "text/x-python",
   "name": "python",
   "nbconvert_exporter": "python",
   "pygments_lexer": "ipython3",
   "version": "3.10.11"
  },
  "vscode": {
   "interpreter": {
    "hash": "1621022eb20c55fc0df2bddea07b51088062c9b90271a4b5954a6df34d59cc02"
   }
  }
 },
 "nbformat": 4,
 "nbformat_minor": 5
}
